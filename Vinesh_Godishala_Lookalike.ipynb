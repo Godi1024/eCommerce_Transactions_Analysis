{
  "nbformat": 4,
  "nbformat_minor": 0,
  "metadata": {
    "colab": {
      "provenance": []
    },
    "kernelspec": {
      "name": "python3",
      "display_name": "Python 3"
    },
    "language_info": {
      "name": "python"
    }
  },
  "cells": [
    {
      "cell_type": "code",
      "source": [
        "import pandas as pd\n",
        "from sklearn.preprocessing import MinMaxScaler\n",
        "from sklearn.metrics.pairwise import cosine_similarity"
      ],
      "metadata": {
        "id": "3G0wJovsTCgY"
      },
      "execution_count": null,
      "outputs": []
    },
    {
      "cell_type": "code",
      "source": [
        "customers_path = '/content/Customers.csv'\n",
        "transactions_path = '/content/Transactions.csv'\n",
        "products_path = '/content/Products.csv'"
      ],
      "metadata": {
        "id": "QPnVKpUCTGW7"
      },
      "execution_count": null,
      "outputs": []
    },
    {
      "cell_type": "code",
      "source": [
        "customers_df = pd.read_csv(customers_path)\n",
        "transactions_df = pd.read_csv(transactions_path)\n",
        "products_df = pd.read_csv(products_path)"
      ],
      "metadata": {
        "id": "2eW4XLAzTHoo"
      },
      "execution_count": null,
      "outputs": []
    },
    {
      "cell_type": "markdown",
      "source": [
        "merged data to get 1) product details for each transaction and 2) customers- to get customer demographic data\n"
      ],
      "metadata": {
        "id": "yf3_5bz7TWbR"
      }
    },
    {
      "cell_type": "code",
      "source": [
        "transactions_products = pd.merge(transactions_df, products_df, on=\"ProductID\")\n",
        "customer_transactions = pd.merge(transactions_products, customers_df, on=\"CustomerID\")"
      ],
      "metadata": {
        "id": "CpP26UIvTPwV"
      },
      "execution_count": null,
      "outputs": []
    },
    {
      "cell_type": "code",
      "source": [
        "customer_profiles = customer_transactions.groupby(\"CustomerID\").agg(\n",
        "    total_spent=(\"TotalValue\", \"sum\"),\n",
        "    total_transactions=(\"TransactionID\", \"count\"),\n",
        "    avg_purchase_value=(\"TotalValue\", \"mean\"),\n",
        "    most_common_category=(\"Category\", lambda x: x.mode()[0] if not x.mode().empty else None),\n",
        "    region=(\"Region\", \"first\"),\n",
        "    signup_date=(\"SignupDate\", \"first\")\n",
        ").reset_index()"
      ],
      "metadata": {
        "id": "QfdevGwGT8CU"
      },
      "execution_count": null,
      "outputs": []
    },
    {
      "cell_type": "code",
      "source": [
        "scaler = MinMaxScaler()\n",
        "numeric_features = [\"total_spent\", \"total_transactions\", \"avg_purchase_value\"]\n",
        "customer_profiles[numeric_features] = scaler.fit_transform(customer_profiles[numeric_features])\n"
      ],
      "metadata": {
        "id": "4FGozegWUCZU"
      },
      "execution_count": null,
      "outputs": []
    },
    {
      "cell_type": "code",
      "source": [
        "encoded_profiles = pd.get_dummies(customer_profiles, columns=[\"most_common_category\", \"region\"], drop_first=True)\n",
        "feature_columns = [col for col in encoded_profiles.columns if col not in [\"CustomerID\", \"signup_date\"]]\n",
        "similarity_matrix = cosine_similarity(encoded_profiles[feature_columns])"
      ],
      "metadata": {
        "id": "q89y-uh7UImK"
      },
      "execution_count": null,
      "outputs": []
    },
    {
      "cell_type": "code",
      "source": [
        "customer_ids = customer_profiles[\"CustomerID\"]\n",
        "lookalike_map = {}\n",
        "\n",
        "for i, customer_id in enumerate(customer_ids[:20]):\n",
        "    similarity_scores = list(enumerate(similarity_matrix[i]))\n",
        "    sorted_scores = sorted(similarity_scores, key=lambda x: x[1], reverse=True)\n",
        "    top_3 = [(customer_ids[j], score) for j, score in sorted_scores[1:4]]\n",
        "    lookalike_map[customer_id] = top_3"
      ],
      "metadata": {
        "id": "A3v6jYDKUzqP"
      },
      "execution_count": null,
      "outputs": []
    },
    {
      "cell_type": "code",
      "execution_count": null,
      "metadata": {
        "colab": {
          "base_uri": "https://localhost:8080/",
          "height": 243
        },
        "id": "cZLygCpiR0CB",
        "outputId": "0d8ea706-b515-425c-a445-dcf258c850f4"
      },
      "outputs": [
        {
          "output_type": "stream",
          "name": "stdout",
          "text": [
            "Lookalike.csv\n",
            "  CustomerID SimilarCustomerID  SimilarityScore\n",
            "0      C0001             C0190         0.999128\n",
            "1      C0001             C0048         0.998555\n",
            "2      C0001             C0039         0.997123\n",
            "3      C0002             C0088         0.995626\n",
            "4      C0002             C0134         0.994023\n",
            "   CustomerID SimilarCustomerID  SimilarityScore\n",
            "55      C0019             C0121         0.978723\n",
            "56      C0019             C0017         0.970967\n",
            "57      C0020             C0050         0.983987\n",
            "58      C0020             C0026         0.970476\n",
            "59      C0020             C0035         0.966214\n"
          ]
        },
        {
          "output_type": "display_data",
          "data": {
            "text/plain": [
              "<IPython.core.display.Javascript object>"
            ],
            "application/javascript": [
              "\n",
              "    async function download(id, filename, size) {\n",
              "      if (!google.colab.kernel.accessAllowed) {\n",
              "        return;\n",
              "      }\n",
              "      const div = document.createElement('div');\n",
              "      const label = document.createElement('label');\n",
              "      label.textContent = `Downloading \"${filename}\": `;\n",
              "      div.appendChild(label);\n",
              "      const progress = document.createElement('progress');\n",
              "      progress.max = size;\n",
              "      div.appendChild(progress);\n",
              "      document.body.appendChild(div);\n",
              "\n",
              "      const buffers = [];\n",
              "      let downloaded = 0;\n",
              "\n",
              "      const channel = await google.colab.kernel.comms.open(id);\n",
              "      // Send a message to notify the kernel that we're ready.\n",
              "      channel.send({})\n",
              "\n",
              "      for await (const message of channel.messages) {\n",
              "        // Send a message to notify the kernel that we're ready.\n",
              "        channel.send({})\n",
              "        if (message.buffers) {\n",
              "          for (const buffer of message.buffers) {\n",
              "            buffers.push(buffer);\n",
              "            downloaded += buffer.byteLength;\n",
              "            progress.value = downloaded;\n",
              "          }\n",
              "        }\n",
              "      }\n",
              "      const blob = new Blob(buffers, {type: 'application/binary'});\n",
              "      const a = document.createElement('a');\n",
              "      a.href = window.URL.createObjectURL(blob);\n",
              "      a.download = filename;\n",
              "      div.appendChild(a);\n",
              "      a.click();\n",
              "      div.remove();\n",
              "    }\n",
              "  "
            ]
          },
          "metadata": {}
        },
        {
          "output_type": "display_data",
          "data": {
            "text/plain": [
              "<IPython.core.display.Javascript object>"
            ],
            "application/javascript": [
              "download(\"download_cfcf6ac8-66e7-42f4-9862-e8889fd5808c\", \"Lookalike.csv\", 1903)"
            ]
          },
          "metadata": {}
        }
      ],
      "source": [
        "lookalike_data = []\n",
        "for cust_id, lookalikes in lookalike_map.items():\n",
        "    for similar_cust_id, score in lookalikes:\n",
        "        lookalike_data.append({\n",
        "            \"CustomerID\": cust_id,\n",
        "            \"SimilarCustomerID\": similar_cust_id,\n",
        "            \"SimilarityScore\": score\n",
        "        })\n",
        "\n",
        "lookalike_df = pd.DataFrame(lookalike_data)\n",
        "lookalike_df.to_csv(\"Lookalike.csv\", index=False)\n",
        "\n",
        "print(\"Lookalike.csv\")\n",
        "print(lookalike_df.head())\n",
        "print(lookalike_df.tail())"
      ]
    },
    {
      "cell_type": "code",
      "source": [
        "files.download(\"Lookalike.csv\")"
      ],
      "metadata": {
        "id": "KXBesu0aSAwb"
      },
      "execution_count": null,
      "outputs": []
    }
  ]
}